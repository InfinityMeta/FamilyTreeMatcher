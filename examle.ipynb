{
 "cells": [
  {
   "cell_type": "code",
   "execution_count": 1,
   "metadata": {},
   "outputs": [],
   "source": [
    "from full_name_matcher import FullNameMatcher"
   ]
  },
  {
   "cell_type": "markdown",
   "metadata": {},
   "source": [
    "### Инициализация модели"
   ]
  },
  {
   "cell_type": "code",
   "execution_count": 2,
   "metadata": {},
   "outputs": [],
   "source": [
    "fnm = FullNameMatcher()"
   ]
  },
  {
   "cell_type": "markdown",
   "metadata": {},
   "source": [
    "### Обучение модели"
   ]
  },
  {
   "cell_type": "code",
   "execution_count": 3,
   "metadata": {},
   "outputs": [
    {
     "name": "stderr",
     "output_type": "stream",
     "text": [
      "100%|██████████| 2/2 [00:05<00:00,  2.57s/it]\n"
     ]
    }
   ],
   "source": [
    "entities_paths = {\n",
    "    'name': './data/russian_trans_names.csv',\n",
    "    'surname': './data/russian_trans_surnames.csv'\n",
    "}\n",
    "\n",
    "fnm.fit(entities_paths)"
   ]
  },
  {
   "cell_type": "markdown",
   "metadata": {},
   "source": [
    "### Поиск 3-х ближайших имен + фамилий"
   ]
  },
  {
   "cell_type": "code",
   "execution_count": 4,
   "metadata": {},
   "outputs": [
    {
     "name": "stdout",
     "output_type": "stream",
     "text": [
      "name: ['aleksej', 'alekse', 'aleks']\n",
      "surname: ['romanov', 'romanova', 'roman']\n"
     ]
    }
   ],
   "source": [
    "entities_dict = {\n",
    "    'name': 'aleksej',\n",
    "    'surname': 'romanov'\n",
    "}\n",
    "\n",
    "result_dict = fnm.search(entities_dict, neighbors_num=3)\n",
    "\n",
    "for entity, obtained_values in result_dict.items():\n",
    "    print(f'{entity}: {obtained_values}')"
   ]
  }
 ],
 "metadata": {
  "kernelspec": {
   "display_name": "genotek",
   "language": "python",
   "name": "python3"
  },
  "language_info": {
   "codemirror_mode": {
    "name": "ipython",
    "version": 3
   },
   "file_extension": ".py",
   "mimetype": "text/x-python",
   "name": "python",
   "nbconvert_exporter": "python",
   "pygments_lexer": "ipython3",
   "version": "3.10.15"
  }
 },
 "nbformat": 4,
 "nbformat_minor": 2
}
